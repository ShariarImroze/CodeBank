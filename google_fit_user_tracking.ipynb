{
 "cells": [
  {
   "cell_type": "code",
   "execution_count": null,
   "metadata": {},
   "outputs": [],
   "source": [
    "Find the average session distance travelled by Google Fit users based on GPS location data. Calculate the distance for two scenarios:\n",
    "\n",
    "\n",
    "\n",
    "1. Taking into consideration the curvature of the earth\n",
    "\n",
    "2. Taking into consideration the curvature of the earth as a flat surface\n",
    "\n",
    "\n",
    "Assume one session distance is the distance between the biggest and the smallest step. If the session has only one step id, discard it from the calculation. Assume that session can't span over multiple days.\n",
    "Output the average session distances calculated in the two scenarios and the difference between them.\n",
    "\n",
    "\n",
    "Formula to calculate the distance with the curvature of the earth:\n",
    "\n",
    "https://platform.stratascratch.com/coding/10067-google-fit-user-tracking?utm_source=blog&utm_medium=click&utm_campaign=kdn+3+hard+python+questions&code_type=1\n"
   ]
  },
  {
   "cell_type": "markdown",
   "metadata": {},
   "source": []
  }
 ],
 "metadata": {
  "language_info": {
   "name": "python"
  },
  "orig_nbformat": 4
 },
 "nbformat": 4,
 "nbformat_minor": 2
}
